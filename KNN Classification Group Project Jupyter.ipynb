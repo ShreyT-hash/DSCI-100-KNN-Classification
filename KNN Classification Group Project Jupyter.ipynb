{
 "cells": [
  {
   "cell_type": "markdown",
   "metadata": {},
   "source": [
    "<h3>Methodology</h3>\n",
    "\n",
    "\n",
    "Fortunately, the dataset was in a CSV format and the first four rows were  was already clean enough that we could process it directly. The only data wrangling that was required was converting the numeric response variable which was the 'Class' column into a categorical one. This was done by changing the integer values 0 and 1 to 'Authentic' and 'Forged' respectively.\n",
    "\n",
    "*Talk about exploratory analysis*\n",
    "\n",
    "We then split our dataset into a training and testing dataset, and further divided those into: \n",
    "- X_train: A data frame containing the explanatory variables from the training dataset.\n",
    "- Y_train: A vector containing the class labels from the training dataset. (the values from the ‘class’ column.)\n",
    "- X_test: A data frame containing the explanatory variables from the testing dataset.\n",
    "- Y_test: A vector containing the class labels from the testing dataset. (the values from the ‘class’ column.)\n",
    "\n",
    "\n",
    "Together, X_train and Y_train was used to train our k-nn algorithm. Then *talk about cross-validation, tuning, k accuracy etc*\n",
    "\n",
    "\n",
    "Then a we will construct a confusion matrix to display our results. \n",
    "\n"
   ]
  },
  {
   "cell_type": "markdown",
   "metadata": {},
   "source": [
    "<div align=\"center\"><h1>Banknote Authentication K-NN Classification Data Science Report</h1></div>\n"
   ]
  },
  {
   "cell_type": "markdown",
   "metadata": {},
   "source": [
    "<h3>Introduction</h3>\n",
    "\n",
    "Counterfeit money is imitation currency produced without the legal permission of the state or government, usually in a conscious attempt to imitate that currency and to deceive its recipient (Counterfeit Prevention). The usage of counterfeit notes is considered to be a fraud and can have adverse side effects on a country's economy. Governments have to come up with may ways of detecting forged banknotes and withdrawing them from preventing them from entering circulation. For this data science project proposal, we will be exploring banknote identification using a dataset from the UCI Machine Learning Repository. The data collected comprises of analysis done on 400x400 pixel gray-scale images taken from genuine and forged banknote-like examples. \n",
    "\n",
    "The data set was gathered using an industrial camera, and a wavelet transform tool was used to extract features from the images. A wavelet transform tool is a mathematical function that analyzes essential aspects of an image (noise, intensity, bits/pixel, levels), and these values form a distribution. Just like any distribution, different statistics are used to analyze the shape of the distribution forms. In our case, the statistics used are variance (how dispersed everything is), skewness (how asymmetrical something is), kurtosis (how peaked the distribution is) and entropy (amount of detailed information within an image). The final column is class, which has either a 0 value meaning banknote is authentic or a value of 1, which means that the note is forged.\n",
    "\n",
    "With this data set, we will be answering the question, can we use data gathered from the digital image analysis of banknotes to predict whether a banknote is forged or authentic?\n"
   ]
  },
  {
   "cell_type": "markdown",
   "metadata": {},
   "source": [
    "<h3>Exploratory Data Analysis</h3>\n",
    "\n",
    "Primarily, we load the relevant packages and then read the dataset, which is in a CSV format, from the repository into Jupyter."
   ]
  },
  {
   "cell_type": "code",
   "execution_count": 1,
   "metadata": {},
   "outputs": [
    {
     "name": "stderr",
     "output_type": "stream",
     "text": [
      "── \u001b[1mAttaching packages\u001b[22m ─────────────────────────────────────── tidyverse 1.2.1 ──\n",
      "\u001b[32m✔\u001b[39m \u001b[34mggplot2\u001b[39m 3.2.0     \u001b[32m✔\u001b[39m \u001b[34mpurrr  \u001b[39m 0.3.2\n",
      "\u001b[32m✔\u001b[39m \u001b[34mtibble \u001b[39m 2.1.3     \u001b[32m✔\u001b[39m \u001b[34mdplyr  \u001b[39m 0.8.3\n",
      "\u001b[32m✔\u001b[39m \u001b[34mtidyr  \u001b[39m 0.8.3     \u001b[32m✔\u001b[39m \u001b[34mstringr\u001b[39m 1.4.0\n",
      "\u001b[32m✔\u001b[39m \u001b[34mreadr  \u001b[39m 1.3.1     \u001b[32m✔\u001b[39m \u001b[34mforcats\u001b[39m 0.4.0\n",
      "── \u001b[1mConflicts\u001b[22m ────────────────────────────────────────── tidyverse_conflicts() ──\n",
      "\u001b[31m✖\u001b[39m \u001b[34mdplyr\u001b[39m::\u001b[32mfilter()\u001b[39m masks \u001b[34mstats\u001b[39m::filter()\n",
      "\u001b[31m✖\u001b[39m \u001b[34mdplyr\u001b[39m::\u001b[32mlag()\u001b[39m    masks \u001b[34mstats\u001b[39m::lag()\n",
      "Loading required package: lattice\n",
      "\n",
      "Attaching package: ‘caret’\n",
      "\n",
      "The following object is masked from ‘package:purrr’:\n",
      "\n",
      "    lift\n",
      "\n",
      "Registered S3 method overwritten by 'GGally':\n",
      "  method from   \n",
      "  +.gg   ggplot2\n",
      "\n",
      "Attaching package: ‘GGally’\n",
      "\n",
      "The following object is masked from ‘package:dplyr’:\n",
      "\n",
      "    nasa\n",
      "\n"
     ]
    }
   ],
   "source": [
    "#loading the relevant packages\n",
    "library(tidyverse)\n",
    "library(repr)\n",
    "library(readxl)\n",
    "library(caret)\n",
    "library(GGally)"
   ]
  },
  {
   "cell_type": "markdown",
   "metadata": {},
   "source": [
    "<h4>Table 1.0: Preview of Banknote Authentication Dataset</h4>"
   ]
  },
  {
   "cell_type": "code",
   "execution_count": 2,
   "metadata": {},
   "outputs": [
    {
     "name": "stderr",
     "output_type": "stream",
     "text": [
      "Parsed with column specification:\n",
      "cols(\n",
      "  variance = \u001b[32mcol_double()\u001b[39m,\n",
      "  skewness = \u001b[32mcol_double()\u001b[39m,\n",
      "  curtosis = \u001b[32mcol_double()\u001b[39m,\n",
      "  entropy = \u001b[32mcol_double()\u001b[39m,\n",
      "  class = \u001b[32mcol_double()\u001b[39m\n",
      ")\n"
     ]
    },
    {
     "data": {
      "text/html": [
       "<table>\n",
       "<caption>A tibble: 6 × 5</caption>\n",
       "<thead>\n",
       "\t<tr><th scope=col>variance</th><th scope=col>skewness</th><th scope=col>curtosis</th><th scope=col>entropy</th><th scope=col>class</th></tr>\n",
       "\t<tr><th scope=col>&lt;dbl&gt;</th><th scope=col>&lt;dbl&gt;</th><th scope=col>&lt;dbl&gt;</th><th scope=col>&lt;dbl&gt;</th><th scope=col>&lt;dbl&gt;</th></tr>\n",
       "</thead>\n",
       "<tbody>\n",
       "\t<tr><td>3.62160</td><td> 8.6661</td><td>-2.8073</td><td>-0.44699</td><td>0</td></tr>\n",
       "\t<tr><td>4.54590</td><td> 8.1674</td><td>-2.4586</td><td>-1.46210</td><td>0</td></tr>\n",
       "\t<tr><td>3.86600</td><td>-2.6383</td><td> 1.9242</td><td> 0.10645</td><td>0</td></tr>\n",
       "\t<tr><td>3.45660</td><td> 9.5228</td><td>-4.0112</td><td>-3.59440</td><td>0</td></tr>\n",
       "\t<tr><td>0.32924</td><td>-4.4552</td><td> 4.5718</td><td>-0.98880</td><td>0</td></tr>\n",
       "\t<tr><td>4.36840</td><td> 9.6718</td><td>-3.9606</td><td>-3.16250</td><td>0</td></tr>\n",
       "</tbody>\n",
       "</table>\n"
      ],
      "text/latex": [
       "A tibble: 6 × 5\n",
       "\\begin{tabular}{r|lllll}\n",
       " variance & skewness & curtosis & entropy & class\\\\\n",
       " <dbl> & <dbl> & <dbl> & <dbl> & <dbl>\\\\\n",
       "\\hline\n",
       "\t 3.62160 &  8.6661 & -2.8073 & -0.44699 & 0\\\\\n",
       "\t 4.54590 &  8.1674 & -2.4586 & -1.46210 & 0\\\\\n",
       "\t 3.86600 & -2.6383 &  1.9242 &  0.10645 & 0\\\\\n",
       "\t 3.45660 &  9.5228 & -4.0112 & -3.59440 & 0\\\\\n",
       "\t 0.32924 & -4.4552 &  4.5718 & -0.98880 & 0\\\\\n",
       "\t 4.36840 &  9.6718 & -3.9606 & -3.16250 & 0\\\\\n",
       "\\end{tabular}\n"
      ],
      "text/markdown": [
       "\n",
       "A tibble: 6 × 5\n",
       "\n",
       "| variance &lt;dbl&gt; | skewness &lt;dbl&gt; | curtosis &lt;dbl&gt; | entropy &lt;dbl&gt; | class &lt;dbl&gt; |\n",
       "|---|---|---|---|---|\n",
       "| 3.62160 |  8.6661 | -2.8073 | -0.44699 | 0 |\n",
       "| 4.54590 |  8.1674 | -2.4586 | -1.46210 | 0 |\n",
       "| 3.86600 | -2.6383 |  1.9242 |  0.10645 | 0 |\n",
       "| 3.45660 |  9.5228 | -4.0112 | -3.59440 | 0 |\n",
       "| 0.32924 | -4.4552 |  4.5718 | -0.98880 | 0 |\n",
       "| 4.36840 |  9.6718 | -3.9606 | -3.16250 | 0 |\n",
       "\n"
      ],
      "text/plain": [
       "  variance skewness curtosis entropy  class\n",
       "1 3.62160   8.6661  -2.8073  -0.44699 0    \n",
       "2 4.54590   8.1674  -2.4586  -1.46210 0    \n",
       "3 3.86600  -2.6383   1.9242   0.10645 0    \n",
       "4 3.45660   9.5228  -4.0112  -3.59440 0    \n",
       "5 0.32924  -4.4552   4.5718  -0.98880 0    \n",
       "6 4.36840   9.6718  -3.9606  -3.16250 0    "
      ]
     },
     "metadata": {},
     "output_type": "display_data"
    }
   ],
   "source": [
    "# read data into R\n",
    "b_note_data<-read_csv(\"http://archive.ics.uci.edu/ml/machine-learning-databases/00267/data_banknote_authentication.txt\", col_names = c(\"variance\", \"skewness\", \"curtosis\", \"entropy\", \"class\"))\n",
    "\n",
    "#give a preview of the data\n",
    "head(b_note_data)"
   ]
  },
  {
   "cell_type": "markdown",
   "metadata": {},
   "source": [
    "The first four columns do not require any modification however since we are predicting a label, which is a categorical value, the 'class' column has to be changed from having numerical values to categorical ones. This is done by changing the integer values 0 and 1 to 'Authentic' and 'Forged' respectively."
   ]
  },
  {
   "cell_type": "markdown",
   "metadata": {},
   "source": [
    "<h4>Table 1.1: Dataset after converting the 'class' column</h4>"
   ]
  },
  {
   "cell_type": "code",
   "execution_count": 3,
   "metadata": {},
   "outputs": [
    {
     "data": {
      "text/html": [
       "<table>\n",
       "<caption>A tibble: 6 × 5</caption>\n",
       "<thead>\n",
       "\t<tr><th scope=col>variance</th><th scope=col>skewness</th><th scope=col>curtosis</th><th scope=col>entropy</th><th scope=col>class</th></tr>\n",
       "\t<tr><th scope=col>&lt;dbl&gt;</th><th scope=col>&lt;dbl&gt;</th><th scope=col>&lt;dbl&gt;</th><th scope=col>&lt;dbl&gt;</th><th scope=col>&lt;chr&gt;</th></tr>\n",
       "</thead>\n",
       "<tbody>\n",
       "\t<tr><td>3.62160</td><td> 8.6661</td><td>-2.8073</td><td>-0.44699</td><td>Authentic</td></tr>\n",
       "\t<tr><td>4.54590</td><td> 8.1674</td><td>-2.4586</td><td>-1.46210</td><td>Authentic</td></tr>\n",
       "\t<tr><td>3.86600</td><td>-2.6383</td><td> 1.9242</td><td> 0.10645</td><td>Authentic</td></tr>\n",
       "\t<tr><td>3.45660</td><td> 9.5228</td><td>-4.0112</td><td>-3.59440</td><td>Authentic</td></tr>\n",
       "\t<tr><td>0.32924</td><td>-4.4552</td><td> 4.5718</td><td>-0.98880</td><td>Authentic</td></tr>\n",
       "\t<tr><td>4.36840</td><td> 9.6718</td><td>-3.9606</td><td>-3.16250</td><td>Authentic</td></tr>\n",
       "</tbody>\n",
       "</table>\n"
      ],
      "text/latex": [
       "A tibble: 6 × 5\n",
       "\\begin{tabular}{r|lllll}\n",
       " variance & skewness & curtosis & entropy & class\\\\\n",
       " <dbl> & <dbl> & <dbl> & <dbl> & <chr>\\\\\n",
       "\\hline\n",
       "\t 3.62160 &  8.6661 & -2.8073 & -0.44699 & Authentic\\\\\n",
       "\t 4.54590 &  8.1674 & -2.4586 & -1.46210 & Authentic\\\\\n",
       "\t 3.86600 & -2.6383 &  1.9242 &  0.10645 & Authentic\\\\\n",
       "\t 3.45660 &  9.5228 & -4.0112 & -3.59440 & Authentic\\\\\n",
       "\t 0.32924 & -4.4552 &  4.5718 & -0.98880 & Authentic\\\\\n",
       "\t 4.36840 &  9.6718 & -3.9606 & -3.16250 & Authentic\\\\\n",
       "\\end{tabular}\n"
      ],
      "text/markdown": [
       "\n",
       "A tibble: 6 × 5\n",
       "\n",
       "| variance &lt;dbl&gt; | skewness &lt;dbl&gt; | curtosis &lt;dbl&gt; | entropy &lt;dbl&gt; | class &lt;chr&gt; |\n",
       "|---|---|---|---|---|\n",
       "| 3.62160 |  8.6661 | -2.8073 | -0.44699 | Authentic |\n",
       "| 4.54590 |  8.1674 | -2.4586 | -1.46210 | Authentic |\n",
       "| 3.86600 | -2.6383 |  1.9242 |  0.10645 | Authentic |\n",
       "| 3.45660 |  9.5228 | -4.0112 | -3.59440 | Authentic |\n",
       "| 0.32924 | -4.4552 |  4.5718 | -0.98880 | Authentic |\n",
       "| 4.36840 |  9.6718 | -3.9606 | -3.16250 | Authentic |\n",
       "\n"
      ],
      "text/plain": [
       "  variance skewness curtosis entropy  class    \n",
       "1 3.62160   8.6661  -2.8073  -0.44699 Authentic\n",
       "2 4.54590   8.1674  -2.4586  -1.46210 Authentic\n",
       "3 3.86600  -2.6383   1.9242   0.10645 Authentic\n",
       "4 3.45660   9.5228  -4.0112  -3.59440 Authentic\n",
       "5 0.32924  -4.4552   4.5718  -0.98880 Authentic\n",
       "6 4.36840   9.6718  -3.9606  -3.16250 Authentic"
      ]
     },
     "metadata": {},
     "output_type": "display_data"
    }
   ],
   "source": [
    "#change the class column variable from a numerical one to a categorial one.\n",
    "bnd<-mutate(b_note_data, class = ifelse(class == 0, \"Authentic\", \"Forged\"))\n",
    "head(bnd)\n"
   ]
  },
  {
   "cell_type": "markdown",
   "metadata": {},
   "source": [
    "<h4>Table 1.2: Number of Observations and Percentage of Forged and Authentic Banknotes <h4>"
   ]
  },
  {
   "cell_type": "code",
   "execution_count": 4,
   "metadata": {},
   "outputs": [
    {
     "data": {
      "text/html": [
       "<table>\n",
       "<caption>A tibble: 2 × 3</caption>\n",
       "<thead>\n",
       "\t<tr><th scope=col>class</th><th scope=col>n</th><th scope=col>percentage</th></tr>\n",
       "\t<tr><th scope=col>&lt;chr&gt;</th><th scope=col>&lt;int&gt;</th><th scope=col>&lt;dbl&gt;</th></tr>\n",
       "</thead>\n",
       "<tbody>\n",
       "\t<tr><td>Authentic</td><td>762</td><td>55.53936</td></tr>\n",
       "\t<tr><td>Forged   </td><td>610</td><td>44.46064</td></tr>\n",
       "</tbody>\n",
       "</table>\n"
      ],
      "text/latex": [
       "A tibble: 2 × 3\n",
       "\\begin{tabular}{r|lll}\n",
       " class & n & percentage\\\\\n",
       " <chr> & <int> & <dbl>\\\\\n",
       "\\hline\n",
       "\t Authentic & 762 & 55.53936\\\\\n",
       "\t Forged    & 610 & 44.46064\\\\\n",
       "\\end{tabular}\n"
      ],
      "text/markdown": [
       "\n",
       "A tibble: 2 × 3\n",
       "\n",
       "| class &lt;chr&gt; | n &lt;int&gt; | percentage &lt;dbl&gt; |\n",
       "|---|---|---|\n",
       "| Authentic | 762 | 55.53936 |\n",
       "| Forged    | 610 | 44.46064 |\n",
       "\n"
      ],
      "text/plain": [
       "  class     n   percentage\n",
       "1 Authentic 762 55.53936  \n",
       "2 Forged    610 44.46064  "
      ]
     },
     "metadata": {},
     "output_type": "display_data"
    }
   ],
   "source": [
    "# Percentage of forged bank notes and authentic bank notes, to check that both are well represented in the dataset.\n",
    "\n",
    "num_obs <- nrow(bnd)\n",
    "bnd %>% \n",
    "  group_by(class) %>% \n",
    "  summarize(n = n(),\n",
    "            percentage = n() / num_obs * 100)\n"
   ]
  },
  {
   "cell_type": "markdown",
   "metadata": {},
   "source": [
    "We see that 55.54% are 'Authentic' and 44.46% are 'Forged'. There does not seem to be an underrepresentation (class imbalance) of either class value. "
   ]
  },
  {
   "cell_type": "markdown",
   "metadata": {},
   "source": [
    "Now we standardize and randomize the data set to eliminate any bias before splitting it into a training and testing set for the classifier."
   ]
  },
  {
   "cell_type": "code",
   "execution_count": null,
   "metadata": {},
   "outputs": [],
   "source": [
    "#Randomize data set, standardize it and split it into a 75% / 25% partition (trainig and testing data set)\n",
    "set.seed(3456) \n",
    "bnd_scaled <- bnd%>%\n",
    "mutate(scaled_variance = scale(variance, center = TRUE),\n",
    "       scaled_skewness = scale(skewness, center = TRUE),\n",
    "       scaled_curtosis = scale(curtosis, center = TRUE),\n",
    "       scaled_entropy = scale(entropy, center = TRUE))\n",
    "\n",
    "\n",
    "training_rows <- bnd_scaled %>% \n",
    "  select(class) %>% \n",
    "  unlist() %>% \n",
    "  createDataPartition(p = 0.75, list = FALSE)\n"
   ]
  },
  {
   "cell_type": "code",
   "execution_count": null,
   "metadata": {},
   "outputs": [],
   "source": [
    "#Form the training and testing datasets\n",
    "training_set<- bnd_scaled %>% slice(training_rows)\n",
    "testing_set <- bnd_scaled %>% slice(-training_rows)\n"
   ]
  },
  {
   "cell_type": "markdown",
   "metadata": {},
   "source": [
    "Now we use the ggpairs() to plot four different predictor variable values against each other to look for trends and find out which one of the predictor variables are relevant for the analysis.\n",
    "\n"
   ]
  },
  {
   "cell_type": "code",
   "execution_count": null,
   "metadata": {},
   "outputs": [],
   "source": [
    "\n",
    "options(repr.plot.width = 13, repr.plot.height = 7) \n",
    "\n",
    "b_note_data3<-select(training_set, variance, skewness, entropy, class)\n",
    "ggpairs(data=b_note_data3, ggplot2::aes(colour=class, alpha = 0.7), legends = T)\n",
    "b_note_data3"
   ]
  },
  {
   "cell_type": "markdown",
   "metadata": {},
   "source": [
    "Looking at these plots, the significant overlap between scatterplots, lack of trends and the weak correlation between the variables indicates that when doing the classification, all four predictor variables should be used because they are of equal importance.\n"
   ]
  },
  {
   "cell_type": "code",
   "execution_count": 8,
   "metadata": {},
   "outputs": [],
   "source": [
    "#Pre-process the data\n",
    "scale_transformer <- preProcess(training_set, method = c(\"center\", \"scale\")) \n",
    "training_set <- predict(scale_transformer, training_set)\n",
    "test_set <- predict(scale_transformer, testing_set)\n",
    "\n",
    "\n",
    "#Split the data into predictors and class labels so we can feed it to the classifier.\n",
    "X_train <- training_set %>% \n",
    "  select(variance, skewness, curtosis, entropy) %>% \n",
    "  data.frame()\n",
    "Y_train <- training_set %>% \n",
    "  select(class) %>% \n",
    "  unlist()\n",
    "X_test <- test_set %>% \n",
    "  select(variance, skewness, curtosis, entropy) %>% \n",
    "  data.frame()\n",
    "Y_test <- test_set %>% \n",
    "  select(class) %>% \n",
    "  unlist()\n"
   ]
  },
  {
   "cell_type": "code",
   "execution_count": null,
   "metadata": {},
   "outputs": [],
   "source": [
    "#create a dataframe for different values of k so we can pick the optimal one.\n",
    "ks <- data.frame(k = c(1,3,5,7,9,11))\n",
    "\n"
   ]
  },
  {
   "cell_type": "code",
   "execution_count": 10,
   "metadata": {},
   "outputs": [
    {
     "data": {
      "text/plain": [
       "k-Nearest Neighbors \n",
       "\n",
       "1030 samples\n",
       "   4 predictor\n",
       "   2 classes: 'Authentic', 'Forged' \n",
       "\n",
       "No pre-processing\n",
       "Resampling: Cross-Validated (3 fold) \n",
       "Summary of sample sizes: 686, 688, 686 \n",
       "Resampling results across tuning parameters:\n",
       "\n",
       "  k   Accuracy   Kappa    \n",
       "   1  0.9980563  0.9960670\n",
       "   3  0.9980563  0.9960670\n",
       "   5  0.9970874  0.9941063\n",
       "   7  0.9941804  0.9882396\n",
       "   9  0.9912677  0.9823562\n",
       "  11  0.9922367  0.9843092\n",
       "\n",
       "Accuracy was used to select the optimal model using the largest value.\n",
       "The final value used for the model was k = 3."
      ]
     },
     "metadata": {},
     "output_type": "display_data"
    }
   ],
   "source": [
    "#Use folder as 10 to do the cross-validation\n",
    "set.seed(1234) \n",
    "train_control <- trainControl(method = \"cv\", number = 3)\n",
    "choose_k <- train(x = X_train, y = Y_train, method = \"knn\", tuneGrid = ks, trControl = train_control)\n",
    "choose_k\n"
   ]
  },
  {
   "cell_type": "code",
   "execution_count": 11,
   "metadata": {},
   "outputs": [
    {
     "data": {
      "image/png": "[encoded data removed]",
      "text/plain": [
       "plot without title"
      ]
     },
     "metadata": {},
     "output_type": "display_data"
    }
   ],
   "source": [
    "#plot the accuracy of k and then choose the best k\n",
    "options(repr.plot.width=10, repr.plot.height=4)\n",
    "k_accuracies <- choose_k$results %>%\n",
    "                    select(k, Accuracy)\n",
    "choose_k_plot <- ggplot(k_accuracies, aes(x = k, y = Accuracy)) +\n",
    "                    geom_point()+\n",
    "                    geom_line()+\n",
    "                    labs(x = \"The k Value\", y = \"The Accuracy\", title = \"K-value versus accuracy\")\n",
    "choose_k_plot\n"
   ]
  },
  {
   "cell_type": "code",
   "execution_count": 12,
   "metadata": {},
   "outputs": [
    {
     "data": {
      "text/plain": [
       "Confusion Matrix and Statistics\n",
       "\n",
       "                Y_test\n",
       "final_prediction Authentic Forged\n",
       "       Authentic       189      0\n",
       "       Forged            1    152\n",
       "                                          \n",
       "               Accuracy : 0.9971          \n",
       "                 95% CI : (0.9838, 0.9999)\n",
       "    No Information Rate : 0.5556          \n",
       "    P-Value [Acc > NIR] : <2e-16          \n",
       "                                          \n",
       "                  Kappa : 0.9941          \n",
       "                                          \n",
       " Mcnemar's Test P-Value : 1               \n",
       "                                          \n",
       "            Sensitivity : 0.9947          \n",
       "            Specificity : 1.0000          \n",
       "         Pos Pred Value : 1.0000          \n",
       "         Neg Pred Value : 0.9935          \n",
       "             Prevalence : 0.5556          \n",
       "         Detection Rate : 0.5526          \n",
       "   Detection Prevalence : 0.5526          \n",
       "      Balanced Accuracy : 0.9974          \n",
       "                                          \n",
       "       'Positive' Class : Authentic       \n",
       "                                          "
      ]
     },
     "metadata": {},
     "output_type": "display_data"
    }
   ],
   "source": [
    "final_k <- data.frame(k = 3)\n",
    "#Set the optimal value of k according to our graph above.\n",
    "\n",
    "final_model <- train(x = X_train, y = Y_train, method = \"knn\", tuneGrid = final_k)\n",
    "#Train the model using our optimal k value and the training dataset.\n",
    "\n",
    "final_prediction=predict(final_model, X_test)\n",
    "#Predict the class labels from the testing dataset.\n",
    "\n",
    "\n",
    "final_results <- confusionMatrix(table(final_prediction, Y_test))\n",
    "#compare the predictions to the actual values and visualise it using a confusion matrix.\n",
    "\n",
    "\n",
    "final_results\n"
   ]
  },
  {
   "cell_type": "code",
   "execution_count": null,
   "metadata": {},
   "outputs": [],
   "source": []
  }
 ],
 "metadata": {
  "kernelspec": {
   "display_name": "R",
   "language": "R",
   "name": "ir"
  },
  "language_info": {
   "codemirror_mode": "r",
   "file_extension": ".r",
   "mimetype": "text/x-r-source",
   "name": "R",
   "pygments_lexer": "r",
   "version": "3.6.1"
  }
 },
 "nbformat": 4,
 "nbformat_minor": 2
}
